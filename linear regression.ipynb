{
 "cells": [
  {
   "cell_type": "code",
   "execution_count": 1,
   "metadata": {},
   "outputs": [
    {
     "data": {
      "text/html": [
       "<div>\n",
       "<style scoped>\n",
       "    .dataframe tbody tr th:only-of-type {\n",
       "        vertical-align: middle;\n",
       "    }\n",
       "\n",
       "    .dataframe tbody tr th {\n",
       "        vertical-align: top;\n",
       "    }\n",
       "\n",
       "    .dataframe thead th {\n",
       "        text-align: right;\n",
       "    }\n",
       "</style>\n",
       "<table border=\"1\" class=\"dataframe\">\n",
       "  <thead>\n",
       "    <tr style=\"text-align: right;\">\n",
       "      <th></th>\n",
       "      <th>FG</th>\n",
       "      <th>FGA</th>\n",
       "      <th>FGApred</th>\n",
       "      <th>Error</th>\n",
       "      <th>PercentageError</th>\n",
       "      <th>RsquaredU</th>\n",
       "      <th>RsquaredT</th>\n",
       "    </tr>\n",
       "  </thead>\n",
       "  <tbody>\n",
       "    <tr>\n",
       "      <td>0</td>\n",
       "      <td>0.8</td>\n",
       "      <td>1.9</td>\n",
       "      <td>0</td>\n",
       "      <td>0</td>\n",
       "      <td>0</td>\n",
       "      <td>0</td>\n",
       "      <td>0</td>\n",
       "    </tr>\n",
       "    <tr>\n",
       "      <td>1</td>\n",
       "      <td>1.9</td>\n",
       "      <td>4.6</td>\n",
       "      <td>0</td>\n",
       "      <td>0</td>\n",
       "      <td>0</td>\n",
       "      <td>0</td>\n",
       "      <td>0</td>\n",
       "    </tr>\n",
       "    <tr>\n",
       "      <td>2</td>\n",
       "      <td>4.9</td>\n",
       "      <td>10.8</td>\n",
       "      <td>0</td>\n",
       "      <td>0</td>\n",
       "      <td>0</td>\n",
       "      <td>0</td>\n",
       "      <td>0</td>\n",
       "    </tr>\n",
       "    <tr>\n",
       "      <td>3</td>\n",
       "      <td>1.3</td>\n",
       "      <td>3.0</td>\n",
       "      <td>0</td>\n",
       "      <td>0</td>\n",
       "      <td>0</td>\n",
       "      <td>0</td>\n",
       "      <td>0</td>\n",
       "    </tr>\n",
       "    <tr>\n",
       "      <td>4</td>\n",
       "      <td>3.0</td>\n",
       "      <td>7.6</td>\n",
       "      <td>0</td>\n",
       "      <td>0</td>\n",
       "      <td>0</td>\n",
       "      <td>0</td>\n",
       "      <td>0</td>\n",
       "    </tr>\n",
       "    <tr>\n",
       "      <td>...</td>\n",
       "      <td>...</td>\n",
       "      <td>...</td>\n",
       "      <td>...</td>\n",
       "      <td>...</td>\n",
       "      <td>...</td>\n",
       "      <td>...</td>\n",
       "      <td>...</td>\n",
       "    </tr>\n",
       "    <tr>\n",
       "      <td>980</td>\n",
       "      <td>4.4</td>\n",
       "      <td>9.6</td>\n",
       "      <td>0</td>\n",
       "      <td>0</td>\n",
       "      <td>0</td>\n",
       "      <td>0</td>\n",
       "      <td>0</td>\n",
       "    </tr>\n",
       "    <tr>\n",
       "      <td>981</td>\n",
       "      <td>7.6</td>\n",
       "      <td>16.6</td>\n",
       "      <td>0</td>\n",
       "      <td>0</td>\n",
       "      <td>0</td>\n",
       "      <td>0</td>\n",
       "      <td>0</td>\n",
       "    </tr>\n",
       "    <tr>\n",
       "      <td>982</td>\n",
       "      <td>2.1</td>\n",
       "      <td>5.9</td>\n",
       "      <td>0</td>\n",
       "      <td>0</td>\n",
       "      <td>0</td>\n",
       "      <td>0</td>\n",
       "      <td>0</td>\n",
       "    </tr>\n",
       "    <tr>\n",
       "      <td>983</td>\n",
       "      <td>1.1</td>\n",
       "      <td>2.3</td>\n",
       "      <td>0</td>\n",
       "      <td>0</td>\n",
       "      <td>0</td>\n",
       "      <td>0</td>\n",
       "      <td>0</td>\n",
       "    </tr>\n",
       "    <tr>\n",
       "      <td>984</td>\n",
       "      <td>0.9</td>\n",
       "      <td>2.5</td>\n",
       "      <td>0</td>\n",
       "      <td>0</td>\n",
       "      <td>0</td>\n",
       "      <td>0</td>\n",
       "      <td>0</td>\n",
       "    </tr>\n",
       "  </tbody>\n",
       "</table>\n",
       "<p>985 rows × 7 columns</p>\n",
       "</div>"
      ],
      "text/plain": [
       "      FG   FGA FGApred Error PercentageError RsquaredU RsquaredT\n",
       "0    0.8   1.9       0     0               0         0         0\n",
       "1    1.9   4.6       0     0               0         0         0\n",
       "2    4.9  10.8       0     0               0         0         0\n",
       "3    1.3   3.0       0     0               0         0         0\n",
       "4    3.0   7.6       0     0               0         0         0\n",
       "..   ...   ...     ...   ...             ...       ...       ...\n",
       "980  4.4   9.6       0     0               0         0         0\n",
       "981  7.6  16.6       0     0               0         0         0\n",
       "982  2.1   5.9       0     0               0         0         0\n",
       "983  1.1   2.3       0     0               0         0         0\n",
       "984  0.9   2.5       0     0               0         0         0\n",
       "\n",
       "[985 rows x 7 columns]"
      ]
     },
     "execution_count": 1,
     "metadata": {},
     "output_type": "execute_result"
    }
   ],
   "source": [
    "import pandas as pd\n",
    "import numpy as np\n",
    "import matplotlib.pyplot as plt\n",
    "from sklearn.linear_model import LinearRegression\n",
    "from numpy import absolute, mean\n",
    "# import libraries\n",
    "df = pd.read_csv(\"train.csv\")\n",
    "df[\"FGApred\"]=\"0\"\n",
    "df[\"Error\"]=\"0\"\n",
    "df[\"PercentageError\"]=\"0\"\n",
    "df[\"RsquaredU\"]=\"0\"\n",
    "df[\"RsquaredT\"]=\"0\"\n",
    "df\n",
    "# read CSV file into variable \"data\" and display data + add in extra columns"
   ]
  },
  {
   "cell_type": "code",
   "execution_count": 2,
   "metadata": {},
   "outputs": [
    {
     "data": {
      "text/plain": [
       "<matplotlib.collections.PathCollection at 0x19f4c224208>"
      ]
     },
     "execution_count": 2,
     "metadata": {},
     "output_type": "execute_result"
    },
    {
     "data": {
      "image/png": "[encoded data removed]",
      "text/plain": [
       "<Figure size 432x288 with 1 Axes>"
      ]
     },
     "metadata": {
      "needs_background": "light"
     },
     "output_type": "display_data"
    }
   ],
   "source": [
    "%matplotlib inline\n",
    "plt.xlabel(\"field goals made\")\n",
    "plt.ylabel(\"field goals attempted\")\n",
    "plt.scatter(df.FG,df.FGA,color=\"red\")\n",
    "\n",
    "# plot scatter graph of field goals made per game against field goals attempted per game from data"
   ]
  },
  {
   "cell_type": "code",
   "execution_count": 3,
   "metadata": {},
   "outputs": [],
   "source": [
    "x=np.array(df.FG)\n",
    "y=np.array(df.FGA)\n",
    "# assign FG and FGA to variables x and y"
   ]
  },
  {
   "cell_type": "code",
   "execution_count": 4,
   "metadata": {},
   "outputs": [],
   "source": [
    "linreg=LinearRegression() \n",
    "x=x.reshape(-1,1) #reshape data in variable x"
   ]
  },
  {
   "cell_type": "code",
   "execution_count": 5,
   "metadata": {},
   "outputs": [
    {
     "data": {
      "text/plain": [
       "LinearRegression(copy_X=True, fit_intercept=True, n_jobs=None, normalize=False)"
      ]
     },
     "execution_count": 5,
     "metadata": {},
     "output_type": "execute_result"
    }
   ],
   "source": [
    "linreg.fit(x,y) #train the linear regression model with variables x and y "
   ]
  },
  {
   "cell_type": "code",
   "execution_count": 6,
   "metadata": {},
   "outputs": [],
   "source": [
    "x=np.array(df.FG)\n",
    "x=x.reshape(-1,1)\n",
    "y=linreg.predict(x)\n",
    "#predict y using regression model"
   ]
  },
  {
   "cell_type": "code",
   "execution_count": 7,
   "metadata": {},
   "outputs": [
    {
     "data": {
      "text/html": [
       "<div>\n",
       "<style scoped>\n",
       "    .dataframe tbody tr th:only-of-type {\n",
       "        vertical-align: middle;\n",
       "    }\n",
       "\n",
       "    .dataframe tbody tr th {\n",
       "        vertical-align: top;\n",
       "    }\n",
       "\n",
       "    .dataframe thead th {\n",
       "        text-align: right;\n",
       "    }\n",
       "</style>\n",
       "<table border=\"1\" class=\"dataframe\">\n",
       "  <thead>\n",
       "    <tr style=\"text-align: right;\">\n",
       "      <th></th>\n",
       "      <th>FG</th>\n",
       "      <th>FGA</th>\n",
       "      <th>FGApred</th>\n",
       "      <th>Error</th>\n",
       "      <th>PercentageError</th>\n",
       "      <th>RsquaredU</th>\n",
       "      <th>RsquaredT</th>\n",
       "    </tr>\n",
       "  </thead>\n",
       "  <tbody>\n",
       "    <tr>\n",
       "      <td>0</td>\n",
       "      <td>0.8</td>\n",
       "      <td>1.9</td>\n",
       "      <td>2.071914</td>\n",
       "      <td>0.171914</td>\n",
       "      <td>9.048088</td>\n",
       "      <td>0.029554</td>\n",
       "      <td>26.917662</td>\n",
       "    </tr>\n",
       "    <tr>\n",
       "      <td>1</td>\n",
       "      <td>1.9</td>\n",
       "      <td>4.6</td>\n",
       "      <td>4.348807</td>\n",
       "      <td>0.251193</td>\n",
       "      <td>5.460722</td>\n",
       "      <td>0.063098</td>\n",
       "      <td>6.191255</td>\n",
       "    </tr>\n",
       "    <tr>\n",
       "      <td>2</td>\n",
       "      <td>4.9</td>\n",
       "      <td>10.8</td>\n",
       "      <td>10.558515</td>\n",
       "      <td>0.241485</td>\n",
       "      <td>2.235970</td>\n",
       "      <td>0.058315</td>\n",
       "      <td>13.777286</td>\n",
       "    </tr>\n",
       "    <tr>\n",
       "      <td>3</td>\n",
       "      <td>1.3</td>\n",
       "      <td>3.0</td>\n",
       "      <td>3.106865</td>\n",
       "      <td>0.106865</td>\n",
       "      <td>3.562170</td>\n",
       "      <td>0.011420</td>\n",
       "      <td>16.713570</td>\n",
       "    </tr>\n",
       "    <tr>\n",
       "      <td>4</td>\n",
       "      <td>3.0</td>\n",
       "      <td>7.6</td>\n",
       "      <td>6.625700</td>\n",
       "      <td>0.974300</td>\n",
       "      <td>12.819738</td>\n",
       "      <td>0.949261</td>\n",
       "      <td>0.261915</td>\n",
       "    </tr>\n",
       "    <tr>\n",
       "      <td>...</td>\n",
       "      <td>...</td>\n",
       "      <td>...</td>\n",
       "      <td>...</td>\n",
       "      <td>...</td>\n",
       "      <td>...</td>\n",
       "      <td>...</td>\n",
       "      <td>...</td>\n",
       "    </tr>\n",
       "    <tr>\n",
       "      <td>980</td>\n",
       "      <td>4.4</td>\n",
       "      <td>9.6</td>\n",
       "      <td>9.523564</td>\n",
       "      <td>0.076436</td>\n",
       "      <td>0.796210</td>\n",
       "      <td>0.005842</td>\n",
       "      <td>6.309022</td>\n",
       "    </tr>\n",
       "    <tr>\n",
       "      <td>981</td>\n",
       "      <td>7.6</td>\n",
       "      <td>16.6</td>\n",
       "      <td>16.147253</td>\n",
       "      <td>0.452747</td>\n",
       "      <td>2.727392</td>\n",
       "      <td>0.204980</td>\n",
       "      <td>90.473895</td>\n",
       "    </tr>\n",
       "    <tr>\n",
       "      <td>982</td>\n",
       "      <td>2.1</td>\n",
       "      <td>5.9</td>\n",
       "      <td>4.762787</td>\n",
       "      <td>1.137213</td>\n",
       "      <td>19.274791</td>\n",
       "      <td>1.293253</td>\n",
       "      <td>1.411875</td>\n",
       "    </tr>\n",
       "    <tr>\n",
       "      <td>983</td>\n",
       "      <td>1.1</td>\n",
       "      <td>2.3</td>\n",
       "      <td>2.692885</td>\n",
       "      <td>0.392885</td>\n",
       "      <td>17.081936</td>\n",
       "      <td>0.154358</td>\n",
       "      <td>22.927083</td>\n",
       "    </tr>\n",
       "    <tr>\n",
       "      <td>984</td>\n",
       "      <td>0.9</td>\n",
       "      <td>2.5</td>\n",
       "      <td>2.278904</td>\n",
       "      <td>0.221096</td>\n",
       "      <td>8.843842</td>\n",
       "      <td>0.048883</td>\n",
       "      <td>21.051794</td>\n",
       "    </tr>\n",
       "  </tbody>\n",
       "</table>\n",
       "<p>982 rows × 7 columns</p>\n",
       "</div>"
      ],
      "text/plain": [
       "      FG   FGA    FGApred     Error  PercentageError  RsquaredU  RsquaredT\n",
       "0    0.8   1.9   2.071914  0.171914         9.048088   0.029554  26.917662\n",
       "1    1.9   4.6   4.348807  0.251193         5.460722   0.063098   6.191255\n",
       "2    4.9  10.8  10.558515  0.241485         2.235970   0.058315  13.777286\n",
       "3    1.3   3.0   3.106865  0.106865         3.562170   0.011420  16.713570\n",
       "4    3.0   7.6   6.625700  0.974300        12.819738   0.949261   0.261915\n",
       "..   ...   ...        ...       ...              ...        ...        ...\n",
       "980  4.4   9.6   9.523564  0.076436         0.796210   0.005842   6.309022\n",
       "981  7.6  16.6  16.147253  0.452747         2.727392   0.204980  90.473895\n",
       "982  2.1   5.9   4.762787  1.137213        19.274791   1.293253   1.411875\n",
       "983  1.1   2.3   2.692885  0.392885        17.081936   0.154358  22.927083\n",
       "984  0.9   2.5   2.278904  0.221096         8.843842   0.048883  21.051794\n",
       "\n",
       "[982 rows x 7 columns]"
      ]
     },
     "execution_count": 7,
     "metadata": {},
     "output_type": "execute_result"
    }
   ],
   "source": [
    "df.FGApred=y\n",
    "df.Error=absolute(df.FGA-df.FGApred)\n",
    "df.PercentageError=absolute((df.Error/df.FGA)*100)\n",
    "df.RsquaredU=absolute(df.Error*df.Error)\n",
    "average1=df[\"FGA\"].mean()\n",
    "df.RsquaredT=absolute((df.FGA-average1)*(df.FGA-average1))\n",
    "df=df[np.isfinite(df).all(1)]\n",
    "df\n",
    "#calculate table values and display table for training data"
   ]
  },
  {
   "cell_type": "code",
   "execution_count": 8,
   "metadata": {},
   "outputs": [
    {
     "data": {
      "image/png": "[encoded data removed]",
      "text/plain": [
       "<Figure size 432x288 with 1 Axes>"
      ]
     },
     "metadata": {
      "needs_background": "light"
     },
     "output_type": "display_data"
    }
   ],
   "source": [
    "y_pred=linreg.predict(x)\n",
    "plt.xlabel(\"field goals made\")\n",
    "plt.ylabel(\"field goal attempted\")\n",
    "plt.scatter(x,y,color=\"blue\")\n",
    "plt.scatter(df.FG,df.FGA,color=\"red\")\n",
    "plt.plot(x,y_pred,color=\"black\")\n",
    "plt.show() \n",
    "#plot graph of x,y/FG,FGA with linear regression model represented as straight line"
   ]
  },
  {
   "cell_type": "code",
   "execution_count": 9,
   "metadata": {},
   "outputs": [
    {
     "data": {
      "text/plain": [
       "array([2.06990282])"
      ]
     },
     "execution_count": 9,
     "metadata": {},
     "output_type": "execute_result"
    }
   ],
   "source": [
    "linreg.coef_\n",
    "#calculate coeficient"
   ]
  },
  {
   "cell_type": "code",
   "execution_count": 10,
   "metadata": {},
   "outputs": [
    {
     "data": {
      "text/plain": [
       "0.4159914215938416"
      ]
     },
     "execution_count": 10,
     "metadata": {},
     "output_type": "execute_result"
    }
   ],
   "source": [
    "linreg.intercept_\n",
    "#calculate intercept"
   ]
  },
  {
   "cell_type": "code",
   "execution_count": 11,
   "metadata": {},
   "outputs": [
    {
     "data": {
      "text/plain": [
       "0.6973660021742648"
      ]
     },
     "execution_count": 11,
     "metadata": {},
     "output_type": "execute_result"
    }
   ],
   "source": [
    "df[\"Error\"].mean() # mean absolute error"
   ]
  },
  {
   "cell_type": "code",
   "execution_count": 12,
   "metadata": {},
   "outputs": [
    {
     "data": {
      "text/plain": [
       "13.495609082760875"
      ]
     },
     "execution_count": 12,
     "metadata": {},
     "output_type": "execute_result"
    }
   ],
   "source": [
    "df[\"PercentageError\"].mean() # mean absolute percentage error"
   ]
  },
  {
   "cell_type": "code",
   "execution_count": 13,
   "metadata": {},
   "outputs": [
    {
     "data": {
      "text/plain": [
       "834.7673062474935"
      ]
     },
     "execution_count": 13,
     "metadata": {},
     "output_type": "execute_result"
    }
   ],
   "source": [
    "RsquaredUtotal1=df[\"RsquaredU\"].sum()\n",
    "RsquaredUtotal1"
   ]
  },
  {
   "cell_type": "code",
   "execution_count": 14,
   "metadata": {},
   "outputs": [
    {
     "data": {
      "text/plain": [
       "20712.734660073696"
      ]
     },
     "execution_count": 14,
     "metadata": {},
     "output_type": "execute_result"
    }
   ],
   "source": [
    "RsquaredTotal1=df[\"RsquaredT\"].sum()\n",
    "RsquaredTotal1"
   ]
  },
  {
   "cell_type": "code",
   "execution_count": 15,
   "metadata": {},
   "outputs": [
    {
     "data": {
      "text/plain": [
       "0.9596978709017787"
      ]
     },
     "execution_count": 15,
     "metadata": {},
     "output_type": "execute_result"
    }
   ],
   "source": [
    "Rsquared1=1-(RsquaredUtotal1/RsquaredTotal1)\n",
    "Rsquared1 #r squared value"
   ]
  },
  {
   "cell_type": "code",
   "execution_count": 16,
   "metadata": {},
   "outputs": [
    {
     "data": {
      "text/plain": [
       "0.9219916159959903"
      ]
     },
     "execution_count": 16,
     "metadata": {},
     "output_type": "execute_result"
    }
   ],
   "source": [
    "ESsum1=df[\"RsquaredU\"].sum()\n",
    "RMSE1=np.sqrt(ESsum1/982)\n",
    "RMSE1 #root mean squared error"
   ]
  },
  {
   "cell_type": "code",
   "execution_count": 17,
   "metadata": {},
   "outputs": [
    {
     "data": {
      "text/html": [
       "<div>\n",
       "<style scoped>\n",
       "    .dataframe tbody tr th:only-of-type {\n",
       "        vertical-align: middle;\n",
       "    }\n",
       "\n",
       "    .dataframe tbody tr th {\n",
       "        vertical-align: top;\n",
       "    }\n",
       "\n",
       "    .dataframe thead th {\n",
       "        text-align: right;\n",
       "    }\n",
       "</style>\n",
       "<table border=\"1\" class=\"dataframe\">\n",
       "  <thead>\n",
       "    <tr style=\"text-align: right;\">\n",
       "      <th></th>\n",
       "      <th>FG</th>\n",
       "      <th>FGA</th>\n",
       "      <th>FGApred</th>\n",
       "      <th>Error</th>\n",
       "      <th>PercentageError</th>\n",
       "      <th>RsquaredU</th>\n",
       "      <th>RsquaredT</th>\n",
       "    </tr>\n",
       "  </thead>\n",
       "  <tbody>\n",
       "    <tr>\n",
       "      <td>0</td>\n",
       "      <td>2.4</td>\n",
       "      <td>5.6</td>\n",
       "      <td>0</td>\n",
       "      <td>0</td>\n",
       "      <td>0</td>\n",
       "      <td>0</td>\n",
       "      <td>0</td>\n",
       "    </tr>\n",
       "    <tr>\n",
       "      <td>1</td>\n",
       "      <td>5.2</td>\n",
       "      <td>12.1</td>\n",
       "      <td>0</td>\n",
       "      <td>0</td>\n",
       "      <td>0</td>\n",
       "      <td>0</td>\n",
       "      <td>0</td>\n",
       "    </tr>\n",
       "    <tr>\n",
       "      <td>2</td>\n",
       "      <td>4.9</td>\n",
       "      <td>12.1</td>\n",
       "      <td>0</td>\n",
       "      <td>0</td>\n",
       "      <td>0</td>\n",
       "      <td>0</td>\n",
       "      <td>0</td>\n",
       "    </tr>\n",
       "    <tr>\n",
       "      <td>3</td>\n",
       "      <td>4.7</td>\n",
       "      <td>11.1</td>\n",
       "      <td>0</td>\n",
       "      <td>0</td>\n",
       "      <td>0</td>\n",
       "      <td>0</td>\n",
       "      <td>0</td>\n",
       "    </tr>\n",
       "    <tr>\n",
       "      <td>4</td>\n",
       "      <td>2.2</td>\n",
       "      <td>4.8</td>\n",
       "      <td>0</td>\n",
       "      <td>0</td>\n",
       "      <td>0</td>\n",
       "      <td>0</td>\n",
       "      <td>0</td>\n",
       "    </tr>\n",
       "    <tr>\n",
       "      <td>...</td>\n",
       "      <td>...</td>\n",
       "      <td>...</td>\n",
       "      <td>...</td>\n",
       "      <td>...</td>\n",
       "      <td>...</td>\n",
       "      <td>...</td>\n",
       "      <td>...</td>\n",
       "    </tr>\n",
       "    <tr>\n",
       "      <td>418</td>\n",
       "      <td>2.5</td>\n",
       "      <td>5.2</td>\n",
       "      <td>0</td>\n",
       "      <td>0</td>\n",
       "      <td>0</td>\n",
       "      <td>0</td>\n",
       "      <td>0</td>\n",
       "    </tr>\n",
       "    <tr>\n",
       "      <td>419</td>\n",
       "      <td>8.4</td>\n",
       "      <td>18.0</td>\n",
       "      <td>0</td>\n",
       "      <td>0</td>\n",
       "      <td>0</td>\n",
       "      <td>0</td>\n",
       "      <td>0</td>\n",
       "    </tr>\n",
       "    <tr>\n",
       "      <td>420</td>\n",
       "      <td>0.0</td>\n",
       "      <td>1.0</td>\n",
       "      <td>0</td>\n",
       "      <td>0</td>\n",
       "      <td>0</td>\n",
       "      <td>0</td>\n",
       "      <td>0</td>\n",
       "    </tr>\n",
       "    <tr>\n",
       "      <td>421</td>\n",
       "      <td>1.3</td>\n",
       "      <td>2.8</td>\n",
       "      <td>0</td>\n",
       "      <td>0</td>\n",
       "      <td>0</td>\n",
       "      <td>0</td>\n",
       "      <td>0</td>\n",
       "    </tr>\n",
       "    <tr>\n",
       "      <td>422</td>\n",
       "      <td>2.3</td>\n",
       "      <td>5.7</td>\n",
       "      <td>0</td>\n",
       "      <td>0</td>\n",
       "      <td>0</td>\n",
       "      <td>0</td>\n",
       "      <td>0</td>\n",
       "    </tr>\n",
       "  </tbody>\n",
       "</table>\n",
       "<p>423 rows × 7 columns</p>\n",
       "</div>"
      ],
      "text/plain": [
       "      FG   FGA FGApred Error PercentageError RsquaredU RsquaredT\n",
       "0    2.4   5.6       0     0               0         0         0\n",
       "1    5.2  12.1       0     0               0         0         0\n",
       "2    4.9  12.1       0     0               0         0         0\n",
       "3    4.7  11.1       0     0               0         0         0\n",
       "4    2.2   4.8       0     0               0         0         0\n",
       "..   ...   ...     ...   ...             ...       ...       ...\n",
       "418  2.5   5.2       0     0               0         0         0\n",
       "419  8.4  18.0       0     0               0         0         0\n",
       "420  0.0   1.0       0     0               0         0         0\n",
       "421  1.3   2.8       0     0               0         0         0\n",
       "422  2.3   5.7       0     0               0         0         0\n",
       "\n",
       "[423 rows x 7 columns]"
      ]
     },
     "execution_count": 17,
     "metadata": {},
     "output_type": "execute_result"
    }
   ],
   "source": [
    "\n",
    "test=pd.read_csv(\"test.csv\")\n",
    "test[\"FGApred\"]=\"0\" #FGA predicted values\n",
    "test[\"Error\"]=\"0\" #absolute error\n",
    "test[\"PercentageError\"]=\"0\" #absolute percentage error\n",
    "test[\"RsquaredU\"]=\"0\" #R squared unexplained variance\n",
    "test[\"RsquaredT\"]=\"0\" #R sqaured value total variance\n",
    "test\n",
    "\n",
    "#read in test data and add in needed columns"
   ]
  },
  {
   "cell_type": "code",
   "execution_count": 18,
   "metadata": {},
   "outputs": [],
   "source": [
    "\n",
    "x1=np.array(test.FG) #assign FG from test data to x1\n",
    "x1=x1.reshape(-1,1) #reshape x1\n",
    "y1=linreg.predict(x1) #predict FGA of the test data and assign to y1"
   ]
  },
  {
   "cell_type": "code",
   "execution_count": 19,
   "metadata": {},
   "outputs": [],
   "source": [
    "test.FGApred=y1 #assign predicted data to FGA of the test data\n",
    "test.Error=absolute(test.FGA-test.FGApred)\n",
    "test.PercentageError=absolute((test.Error/test.FGA)*100)\n",
    "test.RsquaredU=absolute(test.Error*test.Error)\n",
    "average=test[\"FGA\"].mean()\n",
    "test.RsquaredT=absolute((test.FGA-average)*(test.FGA-average))\n",
    "#calculate absolute error, absolute percentage error, rsquared and root mean squared error\n",
    "test=test[np.isfinite(test).all(1)]\n",
    "#remove infinite values to avoid errors in calculations"
   ]
  },
  {
   "cell_type": "code",
   "execution_count": 20,
   "metadata": {},
   "outputs": [
    {
     "data": {
      "text/html": [
       "<div>\n",
       "<style scoped>\n",
       "    .dataframe tbody tr th:only-of-type {\n",
       "        vertical-align: middle;\n",
       "    }\n",
       "\n",
       "    .dataframe tbody tr th {\n",
       "        vertical-align: top;\n",
       "    }\n",
       "\n",
       "    .dataframe thead th {\n",
       "        text-align: right;\n",
       "    }\n",
       "</style>\n",
       "<table border=\"1\" class=\"dataframe\">\n",
       "  <thead>\n",
       "    <tr style=\"text-align: right;\">\n",
       "      <th></th>\n",
       "      <th>FG</th>\n",
       "      <th>FGA</th>\n",
       "      <th>FGApred</th>\n",
       "      <th>Error</th>\n",
       "      <th>PercentageError</th>\n",
       "      <th>RsquaredU</th>\n",
       "      <th>RsquaredT</th>\n",
       "    </tr>\n",
       "  </thead>\n",
       "  <tbody>\n",
       "    <tr>\n",
       "      <td>0</td>\n",
       "      <td>2.4</td>\n",
       "      <td>5.6</td>\n",
       "      <td>5.383758</td>\n",
       "      <td>0.216242</td>\n",
       "      <td>3.861461</td>\n",
       "      <td>0.046761</td>\n",
       "      <td>3.136165</td>\n",
       "    </tr>\n",
       "    <tr>\n",
       "      <td>1</td>\n",
       "      <td>5.2</td>\n",
       "      <td>12.1</td>\n",
       "      <td>11.179486</td>\n",
       "      <td>0.920514</td>\n",
       "      <td>7.607553</td>\n",
       "      <td>0.847346</td>\n",
       "      <td>22.364179</td>\n",
       "    </tr>\n",
       "    <tr>\n",
       "      <td>2</td>\n",
       "      <td>4.9</td>\n",
       "      <td>12.1</td>\n",
       "      <td>10.558515</td>\n",
       "      <td>1.541485</td>\n",
       "      <td>12.739543</td>\n",
       "      <td>2.376175</td>\n",
       "      <td>22.364179</td>\n",
       "    </tr>\n",
       "    <tr>\n",
       "      <td>3</td>\n",
       "      <td>4.7</td>\n",
       "      <td>11.1</td>\n",
       "      <td>10.144535</td>\n",
       "      <td>0.955465</td>\n",
       "      <td>8.607796</td>\n",
       "      <td>0.912914</td>\n",
       "      <td>13.906023</td>\n",
       "    </tr>\n",
       "    <tr>\n",
       "      <td>4</td>\n",
       "      <td>2.2</td>\n",
       "      <td>4.8</td>\n",
       "      <td>4.969778</td>\n",
       "      <td>0.169778</td>\n",
       "      <td>3.537034</td>\n",
       "      <td>0.028824</td>\n",
       "      <td>6.609640</td>\n",
       "    </tr>\n",
       "    <tr>\n",
       "      <td>...</td>\n",
       "      <td>...</td>\n",
       "      <td>...</td>\n",
       "      <td>...</td>\n",
       "      <td>...</td>\n",
       "      <td>...</td>\n",
       "      <td>...</td>\n",
       "      <td>...</td>\n",
       "    </tr>\n",
       "    <tr>\n",
       "      <td>418</td>\n",
       "      <td>2.5</td>\n",
       "      <td>5.2</td>\n",
       "      <td>5.590748</td>\n",
       "      <td>0.390748</td>\n",
       "      <td>7.514394</td>\n",
       "      <td>0.152684</td>\n",
       "      <td>4.712902</td>\n",
       "    </tr>\n",
       "    <tr>\n",
       "      <td>419</td>\n",
       "      <td>8.4</td>\n",
       "      <td>18.0</td>\n",
       "      <td>17.803175</td>\n",
       "      <td>0.196825</td>\n",
       "      <td>1.093472</td>\n",
       "      <td>0.038740</td>\n",
       "      <td>112.977299</td>\n",
       "    </tr>\n",
       "    <tr>\n",
       "      <td>420</td>\n",
       "      <td>0.0</td>\n",
       "      <td>1.0</td>\n",
       "      <td>0.415991</td>\n",
       "      <td>0.584009</td>\n",
       "      <td>58.400858</td>\n",
       "      <td>0.341066</td>\n",
       "      <td>40.588647</td>\n",
       "    </tr>\n",
       "    <tr>\n",
       "      <td>421</td>\n",
       "      <td>1.3</td>\n",
       "      <td>2.8</td>\n",
       "      <td>3.106865</td>\n",
       "      <td>0.306865</td>\n",
       "      <td>10.959468</td>\n",
       "      <td>0.094166</td>\n",
       "      <td>20.893328</td>\n",
       "    </tr>\n",
       "    <tr>\n",
       "      <td>422</td>\n",
       "      <td>2.3</td>\n",
       "      <td>5.7</td>\n",
       "      <td>5.176768</td>\n",
       "      <td>0.523232</td>\n",
       "      <td>9.179510</td>\n",
       "      <td>0.273772</td>\n",
       "      <td>2.791980</td>\n",
       "    </tr>\n",
       "  </tbody>\n",
       "</table>\n",
       "<p>422 rows × 7 columns</p>\n",
       "</div>"
      ],
      "text/plain": [
       "      FG   FGA    FGApred     Error  PercentageError  RsquaredU   RsquaredT\n",
       "0    2.4   5.6   5.383758  0.216242         3.861461   0.046761    3.136165\n",
       "1    5.2  12.1  11.179486  0.920514         7.607553   0.847346   22.364179\n",
       "2    4.9  12.1  10.558515  1.541485        12.739543   2.376175   22.364179\n",
       "3    4.7  11.1  10.144535  0.955465         8.607796   0.912914   13.906023\n",
       "4    2.2   4.8   4.969778  0.169778         3.537034   0.028824    6.609640\n",
       "..   ...   ...        ...       ...              ...        ...         ...\n",
       "418  2.5   5.2   5.590748  0.390748         7.514394   0.152684    4.712902\n",
       "419  8.4  18.0  17.803175  0.196825         1.093472   0.038740  112.977299\n",
       "420  0.0   1.0   0.415991  0.584009        58.400858   0.341066   40.588647\n",
       "421  1.3   2.8   3.106865  0.306865        10.959468   0.094166   20.893328\n",
       "422  2.3   5.7   5.176768  0.523232         9.179510   0.273772    2.791980\n",
       "\n",
       "[422 rows x 7 columns]"
      ]
     },
     "execution_count": 20,
     "metadata": {},
     "output_type": "execute_result"
    }
   ],
   "source": [
    "test"
   ]
  },
  {
   "cell_type": "code",
   "execution_count": 21,
   "metadata": {},
   "outputs": [
    {
     "data": {
      "text/plain": [
       "0.7623828675148068"
      ]
     },
     "execution_count": 21,
     "metadata": {},
     "output_type": "execute_result"
    }
   ],
   "source": [
    "test[\"Error\"].mean()\n",
    "#mean absolute error"
   ]
  },
  {
   "cell_type": "code",
   "execution_count": 22,
   "metadata": {
    "scrolled": true
   },
   "outputs": [
    {
     "data": {
      "text/plain": [
       "13.039641343526357"
      ]
     },
     "execution_count": 22,
     "metadata": {},
     "output_type": "execute_result"
    }
   ],
   "source": [
    "test[\"PercentageError\"].mean()\n",
    "#mean absolute percentage error"
   ]
  },
  {
   "cell_type": "code",
   "execution_count": 23,
   "metadata": {},
   "outputs": [
    {
     "data": {
      "text/plain": [
       "432.0826969755806"
      ]
     },
     "execution_count": 23,
     "metadata": {},
     "output_type": "execute_result"
    }
   ],
   "source": [
    "RsquaredUtotal=test[\"RsquaredU\"].sum()\n",
    "RsquaredUtotal"
   ]
  },
  {
   "cell_type": "code",
   "execution_count": 24,
   "metadata": {},
   "outputs": [
    {
     "data": {
      "text/plain": [
       "8724.961849504552"
      ]
     },
     "execution_count": 24,
     "metadata": {},
     "output_type": "execute_result"
    }
   ],
   "source": [
    "RsquaredTtotal=test[\"RsquaredT\"].sum()\n",
    "RsquaredTtotal"
   ]
  },
  {
   "cell_type": "code",
   "execution_count": 25,
   "metadata": {},
   "outputs": [
    {
     "data": {
      "text/plain": [
       "0.9504774113138252"
      ]
     },
     "execution_count": 25,
     "metadata": {},
     "output_type": "execute_result"
    }
   ],
   "source": [
    "Rsquared=1-(RsquaredUtotal/RsquaredTtotal)\n",
    "Rsquared #calculate r squared value"
   ]
  },
  {
   "cell_type": "code",
   "execution_count": 26,
   "metadata": {},
   "outputs": [
    {
     "data": {
      "text/plain": [
       "1.0118758060461597"
      ]
     },
     "execution_count": 26,
     "metadata": {},
     "output_type": "execute_result"
    }
   ],
   "source": [
    "ESsum=test[\"RsquaredU\"].sum()\n",
    "RMSE=np.sqrt(ESsum/422)\n",
    "RMSE #calculate root mean squared error"
   ]
  },
  {
   "cell_type": "code",
   "execution_count": 27,
   "metadata": {},
   "outputs": [
    {
     "data": {
      "image/png": "[encoded data removed]",
      "text/plain": [
       "<Figure size 432x288 with 1 Axes>"
      ]
     },
     "metadata": {
      "needs_background": "light"
     },
     "output_type": "display_data"
    }
   ],
   "source": [
    "\n",
    "plt.xlabel(\"field goals made\")\n",
    "plt.ylabel(\"field goal attempted\")\n",
    "plt.scatter(x1,y1,color=\"blue\") #predicted values\n",
    "plt.scatter(test.FG,test.FGA,color=\"red\") #actual values\n",
    "plt.show() \n",
    "#plot graph of test data with predicted FGA value"
   ]
  },
  {
   "cell_type": "code",
   "execution_count": 28,
   "metadata": {},
   "outputs": [],
   "source": [
    "test.to_csv(\"test results.csv\")\n",
    "df.to_csv(\"train results.csv\")\n",
    "#export data \n",
    "\n"
   ]
  },
  {
   "cell_type": "code",
   "execution_count": null,
   "metadata": {},
   "outputs": [],
   "source": []
  }
 ],
 "metadata": {
  "kernelspec": {
   "display_name": "Python 3",
   "language": "python",
   "name": "python3"
  },
  "language_info": {
   "codemirror_mode": {
    "name": "ipython",
    "version": 3
   },
   "file_extension": ".py",
   "mimetype": "text/x-python",
   "name": "python",
   "nbconvert_exporter": "python",
   "pygments_lexer": "ipython3",
   "version": "3.7.4"
  }
 },
 "nbformat": 4,
 "nbformat_minor": 4
}
